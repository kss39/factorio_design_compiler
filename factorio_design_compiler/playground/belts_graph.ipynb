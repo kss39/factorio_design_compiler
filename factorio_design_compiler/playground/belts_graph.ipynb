{
 "cells": [
  {
   "cell_type": "code",
   "execution_count": 2,
   "metadata": {
    "collapsed": true,
    "ExecuteTime": {
     "end_time": "2023-06-19T23:45:15.714617800Z",
     "start_time": "2023-06-19T23:45:06.852713300Z"
    }
   },
   "outputs": [],
   "source": [
    "%load_ext autoreload\n",
    "%autoreload 2\n",
    "from factorio_design_compiler.design import BeltsGraph, FactorioDesignBlock\n",
    "import networkx as nx"
   ]
  },
  {
   "cell_type": "code",
   "execution_count": 3,
   "outputs": [],
   "source": [
    "conflict = '0eJyNkN0KwjAMhd/lXHfi5nSul76GiHRbkEKXjbYTx9i72zoRQQXv8nPynSQTKjNQbzV7yAm67thBHic4fWFlYs2PPUFCe2ohwKqNmbeKXd9Zn1RkPGYBzQ3dINP5JEDstde0kL5PCPSdC6KOo0cYTNarrcC4BIHXaEv10s+exPHMQ1uRjS7ib/Bv7u6Dm8XtH5fKt8cIXMm6ZZV9mhdlVuRZWW7KVMCo4BrUh5d6nu9jKHA3'"
   ],
   "metadata": {
    "collapsed": false,
    "ExecuteTime": {
     "end_time": "2023-06-19T23:45:15.762728700Z",
     "start_time": "2023-06-19T23:45:15.715619Z"
    }
   }
  },
  {
   "cell_type": "code",
   "execution_count": 5,
   "outputs": [
    {
     "data": {
      "text/plain": "<Figure size 640x480 with 1 Axes>",
      "image/png": "[encoded data removed]"
     },
     "metadata": {},
     "output_type": "display_data"
    }
   ],
   "source": [
    "conflict_block = FactorioDesignBlock(conflict)\n",
    "nx.draw_networkx(conflict_block.belts_graph.graph)"
   ],
   "metadata": {
    "collapsed": false,
    "ExecuteTime": {
     "end_time": "2023-06-19T23:45:36.708169400Z",
     "start_time": "2023-06-19T23:45:36.575060Z"
    }
   }
  },
  {
   "cell_type": "code",
   "execution_count": 6,
   "outputs": [
    {
     "data": {
      "text/plain": "               name                position  direction    type  entity_number\n0  underground-belt  {'x': -0.5, 'y': -0.5}          0   input              1\n1  underground-belt   {'x': 0.5, 'y': -0.5}          4  output              2",
      "text/html": "<div>\n<style scoped>\n    .dataframe tbody tr th:only-of-type {\n        vertical-align: middle;\n    }\n\n    .dataframe tbody tr th {\n        vertical-align: top;\n    }\n\n    .dataframe thead th {\n        text-align: right;\n    }\n</style>\n<table border=\"1\" class=\"dataframe\">\n  <thead>\n    <tr style=\"text-align: right;\">\n      <th></th>\n      <th>name</th>\n      <th>position</th>\n      <th>direction</th>\n      <th>type</th>\n      <th>entity_number</th>\n    </tr>\n  </thead>\n  <tbody>\n    <tr>\n      <th>0</th>\n      <td>underground-belt</td>\n      <td>{'x': -0.5, 'y': -0.5}</td>\n      <td>0</td>\n      <td>input</td>\n      <td>1</td>\n    </tr>\n    <tr>\n      <th>1</th>\n      <td>underground-belt</td>\n      <td>{'x': 0.5, 'y': -0.5}</td>\n      <td>4</td>\n      <td>output</td>\n      <td>2</td>\n    </tr>\n  </tbody>\n</table>\n</div>"
     },
     "execution_count": 6,
     "metadata": {},
     "output_type": "execute_result"
    }
   ],
   "source": [
    "# Underground & splitters\n",
    "under = '0eJyVkMFqwzAQRP9lzpsSuy6JdcxvlFLsZAkCeyWkVakx/vdKdjE5pIeeJO3OzFvtjH5I7IMVhZlhr04izPuMaO/SDaWmk2cYWOURBOnG8tLQSfQu6KHnQbEQrNz4G6ZaPggsatXylvTrSLkf7sHlc/MQvItZ5qRQsvVwfHkjTNslJ95s4OvWP9I+hvhUvCti+pQ09hwKlv5B+hvU7CCX9CmpLh9cl2Eedkf44hDXiPpcNae2PjV12762FWHo8hRZfdnVy/IDxAB79A=='\n",
    "FactorioDesignBlock(under).df"
   ],
   "metadata": {
    "collapsed": false,
    "ExecuteTime": {
     "end_time": "2023-06-19T23:50:16.947155900Z",
     "start_time": "2023-06-19T23:50:16.847027500Z"
    }
   }
  },
  {
   "cell_type": "code",
   "execution_count": 8,
   "outputs": [
    {
     "data": {
      "text/plain": "       name              position  direction  entity_number input_priority  \\\n0  splitter  {'x': -2, 'y': -0.5}          0              1           left   \n1  splitter   {'x': 1, 'y': -0.5}          0              2            NaN   \n\n  output_priority  \n0           right  \n1             NaN  ",
      "text/html": "<div>\n<style scoped>\n    .dataframe tbody tr th:only-of-type {\n        vertical-align: middle;\n    }\n\n    .dataframe tbody tr th {\n        vertical-align: top;\n    }\n\n    .dataframe thead th {\n        text-align: right;\n    }\n</style>\n<table border=\"1\" class=\"dataframe\">\n  <thead>\n    <tr style=\"text-align: right;\">\n      <th></th>\n      <th>name</th>\n      <th>position</th>\n      <th>direction</th>\n      <th>entity_number</th>\n      <th>input_priority</th>\n      <th>output_priority</th>\n    </tr>\n  </thead>\n  <tbody>\n    <tr>\n      <th>0</th>\n      <td>splitter</td>\n      <td>{'x': -2, 'y': -0.5}</td>\n      <td>0</td>\n      <td>1</td>\n      <td>left</td>\n      <td>right</td>\n    </tr>\n    <tr>\n      <th>1</th>\n      <td>splitter</td>\n      <td>{'x': 1, 'y': -0.5}</td>\n      <td>0</td>\n      <td>2</td>\n      <td>NaN</td>\n      <td>NaN</td>\n    </tr>\n  </tbody>\n</table>\n</div>"
     },
     "execution_count": 8,
     "metadata": {},
     "output_type": "execute_result"
    }
   ],
   "source": [
    "splitters = '0eJyNkMGOwjAMRP/F57CiAQTNkd9AqGrBgKXUiRJ3tVXVf18HEEKcOEXJeJ4nM0HnB4yJWMBNQKfAGdxhgkxXbn15kzEiOCDBHgxw25ebpJZzDEkWHXqB2QDxGf/AVfPRALKQED5IT0eOnkQwKSOGrHLgQlfLwhoY9Vj+bJRzpoSnh7p8ksaGh75Tq6vKnjhIo4lDUkXBHi+i0DDIh5DoeivRvohQfZ3Alv/du3Bv1Rn4xZTvFrur1tvabte2rle1gn2rFen0/jU9z/9NZ30g'\n",
    "FactorioDesignBlock(splitters).df"
   ],
   "metadata": {
    "collapsed": false,
    "ExecuteTime": {
     "end_time": "2023-06-19T23:50:58.842874100Z",
     "start_time": "2023-06-19T23:50:58.800793800Z"
    }
   }
  }
 ],
 "metadata": {
  "kernelspec": {
   "display_name": "Python 3",
   "language": "python",
   "name": "python3"
  },
  "language_info": {
   "codemirror_mode": {
    "name": "ipython",
    "version": 2
   },
   "file_extension": ".py",
   "mimetype": "text/x-python",
   "name": "python",
   "nbconvert_exporter": "python",
   "pygments_lexer": "ipython2",
   "version": "2.7.6"
  }
 },
 "nbformat": 4,
 "nbformat_minor": 0
}
