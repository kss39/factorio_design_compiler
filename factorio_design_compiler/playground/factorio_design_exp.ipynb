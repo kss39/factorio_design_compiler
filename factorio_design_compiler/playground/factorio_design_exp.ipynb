{
 "cells": [
  {
   "cell_type": "code",
   "execution_count": 6,
   "outputs": [
    {
     "name": "stdout",
     "output_type": "stream",
     "text": [
      "The autoreload extension is already loaded. To reload it, use:\n",
      "  %reload_ext autoreload\n"
     ]
    }
   ],
   "source": [
    "%load_ext autoreload\n",
    "%autoreload 2\n",
    "import os\n",
    "from factorio_design_compiler.fdc_utils import bp_string_to_json\n",
    "from factorio_design_compiler.design import BeltsGraph\n",
    "import pandas as pd\n",
    "import networkx as nx"
   ],
   "metadata": {
    "collapsed": false,
    "ExecuteTime": {
     "end_time": "2023-06-19T06:52:24.332767900Z",
     "start_time": "2023-06-19T06:52:24.289215200Z"
    }
   }
  },
  {
   "cell_type": "markdown",
   "source": [
    "`gear_design` is a simplest gear manufacturer using asm-2, yellow belts and yellow inserters."
   ],
   "metadata": {
    "collapsed": false
   }
  },
  {
   "cell_type": "code",
   "execution_count": 7,
   "metadata": {
    "collapsed": true,
    "ExecuteTime": {
     "end_time": "2023-06-19T06:52:24.375009200Z",
     "start_time": "2023-06-19T06:52:24.332767900Z"
    }
   },
   "outputs": [],
   "source": [
    "f = open(os.path.join(os.getcwd(), '../data/gear_design.fd'))\n",
    "bp_string = f.read()"
   ]
  },
  {
   "cell_type": "code",
   "execution_count": 8,
   "outputs": [
    {
     "data": {
      "text/plain": "{'icons': [{'signal': {'type': 'item', 'name': 'assembling-machine-2'},\n   'index': 1},\n  {'signal': {'type': 'item', 'name': 'transport-belt'}, 'index': 2}],\n 'entities': [{'entity_number': 1,\n   'name': 'transport-belt',\n   'position': {'x': -206.5, 'y': 335.5},\n   'direction': 6},\n  {'entity_number': 2,\n   'name': 'transport-belt',\n   'position': {'x': -205.5, 'y': 335.5},\n   'direction': 6},\n  {'entity_number': 3,\n   'name': 'transport-belt',\n   'position': {'x': -204.5, 'y': 335.5},\n   'direction': 6},\n  {'entity_number': 4,\n   'name': 'assembling-machine-2',\n   'position': {'x': -205.5, 'y': 338.5},\n   'recipe': 'iron-gear-wheel'},\n  {'entity_number': 5,\n   'name': 'inserter',\n   'position': {'x': -205.5, 'y': 336.5},\n   'direction': 4},\n  {'entity_number': 6,\n   'name': 'transport-belt',\n   'position': {'x': -206.5, 'y': 341.5},\n   'direction': 6},\n  {'entity_number': 7,\n   'name': 'inserter',\n   'position': {'x': -205.5, 'y': 340.5},\n   'direction': 4},\n  {'entity_number': 8,\n   'name': 'transport-belt',\n   'position': {'x': -205.5, 'y': 341.5},\n   'direction': 6},\n  {'entity_number': 9,\n   'name': 'transport-belt',\n   'position': {'x': -204.5, 'y': 341.5},\n   'direction': 6}],\n 'item': 'blueprint',\n 'version': 281479276920832}"
     },
     "execution_count": 8,
     "metadata": {},
     "output_type": "execute_result"
    }
   ],
   "source": [
    "design = bp_string_to_json(bp_string)\n",
    "design['blueprint']"
   ],
   "metadata": {
    "collapsed": false,
    "ExecuteTime": {
     "end_time": "2023-06-19T06:52:24.412425900Z",
     "start_time": "2023-06-19T06:52:24.370499500Z"
    }
   }
  },
  {
   "cell_type": "code",
   "execution_count": 9,
   "outputs": [
    {
     "data": {
      "text/plain": "[{'entity_number': 1,\n  'name': 'transport-belt',\n  'position': {'x': -206.5, 'y': 335.5},\n  'direction': 6},\n {'entity_number': 2,\n  'name': 'transport-belt',\n  'position': {'x': -205.5, 'y': 335.5},\n  'direction': 6},\n {'entity_number': 3,\n  'name': 'transport-belt',\n  'position': {'x': -204.5, 'y': 335.5},\n  'direction': 6},\n {'entity_number': 4,\n  'name': 'assembling-machine-2',\n  'position': {'x': -205.5, 'y': 338.5},\n  'recipe': 'iron-gear-wheel'},\n {'entity_number': 5,\n  'name': 'inserter',\n  'position': {'x': -205.5, 'y': 336.5},\n  'direction': 4},\n {'entity_number': 6,\n  'name': 'transport-belt',\n  'position': {'x': -206.5, 'y': 341.5},\n  'direction': 6},\n {'entity_number': 7,\n  'name': 'inserter',\n  'position': {'x': -205.5, 'y': 340.5},\n  'direction': 4},\n {'entity_number': 8,\n  'name': 'transport-belt',\n  'position': {'x': -205.5, 'y': 341.5},\n  'direction': 6},\n {'entity_number': 9,\n  'name': 'transport-belt',\n  'position': {'x': -204.5, 'y': 341.5},\n  'direction': 6}]"
     },
     "execution_count": 9,
     "metadata": {},
     "output_type": "execute_result"
    }
   ],
   "source": [
    "design['blueprint']['entities']"
   ],
   "metadata": {
    "collapsed": false,
    "ExecuteTime": {
     "end_time": "2023-06-19T06:52:24.453798800Z",
     "start_time": "2023-06-19T06:52:24.412425900Z"
    }
   }
  },
  {
   "cell_type": "code",
   "execution_count": 10,
   "outputs": [
    {
     "data": {
      "text/plain": "[{'entity_number': 1,\n  'name': 'transport-belt',\n  'position': {'x': -206.5, 'y': 335.5},\n  'direction': 6},\n {'entity_number': 2,\n  'name': 'transport-belt',\n  'position': {'x': -205.5, 'y': 335.5},\n  'direction': 6},\n {'entity_number': 3,\n  'name': 'transport-belt',\n  'position': {'x': -204.5, 'y': 335.5},\n  'direction': 6},\n {'entity_number': 4,\n  'name': 'assembling-machine-2',\n  'position': {'x': -205.5, 'y': 338.5},\n  'recipe': 'iron-gear-wheel'},\n {'entity_number': 5,\n  'name': 'inserter',\n  'position': {'x': -205.5, 'y': 336.5},\n  'direction': 4,\n  'drop_position': {'x': -0.0078125, 'y': -0.80078125}},\n {'entity_number': 6,\n  'name': 'transport-belt',\n  'position': {'x': -206.5, 'y': 341.5},\n  'direction': 6},\n {'entity_number': 7,\n  'name': 'inserter',\n  'position': {'x': -205.5, 'y': 340.5},\n  'direction': 4,\n  'drop_position': {'x': -0.0078125, 'y': -0.80078125}},\n {'entity_number': 8,\n  'name': 'transport-belt',\n  'position': {'x': -205.5, 'y': 341.5},\n  'direction': 6},\n {'entity_number': 9,\n  'name': 'transport-belt',\n  'position': {'x': -204.5, 'y': 341.5},\n  'direction': 6}]"
     },
     "execution_count": 10,
     "metadata": {},
     "output_type": "execute_result"
    }
   ],
   "source": [
    "s2 = '0eNq1lNtqhDAQht9lrqNoPGV9laUsHgY3oKMk2bYivnujlrKItavQywkz3/9PMpMB8vqBnZJkIB1AFi1pSK8DaFlRVk9npu8QUpAGG2BAWTNFmdbY5LWkymmy4i4JHQ4jA0klfkLqj+xPhFEZ6a5VxsmxNk/FfHxjgGSkkbiYmYP+Ro8mR2XpvzEYdK22ZS1NqhblcC92IwY9pEEQuZEVKaXCYkmJJ5crNj/Cjo6xgyPs8Bg73H+affdiVrB8ubyTasmpMFPOxx2xhg256EdOkkZl7Nm+RLxuwhouVdvd1kWe63mJ8PlSaEPxHY8bNuJTkxD6r9xocrDF0PuXFsWpgXytxcupgdxi242dtzt9+k8YvKPScwIXfphceBJfuCcCPo5fKNRtOQ=='\n",
    "bp_string_to_json(s2)['blueprint']['entities']"
   ],
   "metadata": {
    "collapsed": false,
    "ExecuteTime": {
     "end_time": "2023-06-19T06:52:24.501033400Z",
     "start_time": "2023-06-19T06:52:24.453798800Z"
    }
   }
  },
  {
   "cell_type": "code",
   "execution_count": 11,
   "outputs": [
    {
     "data": {
      "text/plain": "6"
     },
     "execution_count": 11,
     "metadata": {},
     "output_type": "execute_result"
    }
   ],
   "source": [
    "s3_east = '0eNpljtsKgzAQRP9lnlPRWG/5FSnFy1ICukoSS0Xy743xpdC3nWXmzBzop41Wo9lBHdDDwhaqPWD1i7vp/Ll9JShoRzMEuJujYkvGkYEX4R7pA5X5hwCx007TxYhif/I298Gpsv+0wLrYEFj4bAqQm0yLpBDYofK8TIqAH7Wh4bKUZ0Ucon52C7zJ2GiQdXavGlmVjUzrXHr/BSNuSMA='\n",
    "bp_string_to_json(s3_east)['blueprint']['entities'][0]['direction']"
   ],
   "metadata": {
    "collapsed": false,
    "ExecuteTime": {
     "end_time": "2023-06-19T06:52:24.525599700Z",
     "start_time": "2023-06-19T06:52:24.487028300Z"
    }
   }
  },
  {
   "cell_type": "code",
   "execution_count": 12,
   "outputs": [
    {
     "name": "stdout",
     "output_type": "stream",
     "text": [
      "ns {'entity_number': 1, 'name': 'inserter', 'position': {'x': -205.5, 'y': 340.5}}\n",
      "ew {'entity_number': 1, 'name': 'inserter', 'position': {'x': -200.5, 'y': 336.5}, 'direction': 2}\n",
      "sn {'entity_number': 1, 'name': 'inserter', 'position': {'x': -200.5, 'y': 336.5}, 'direction': 4}\n",
      "we {'entity_number': 1, 'name': 'inserter', 'position': {'x': -205.5, 'y': 336.5}, 'direction': 6}\n"
     ]
    }
   ],
   "source": [
    "ins_ns = '0eNpljtEKgzAMRf/lPneiVafmV8YYuoVR0ChtHRPpv692L4O95Yacc7NjGFderBEP2mHuszjQZYczT+nHY+e3hUEwnicoSD+lJI6tZ4ug4vzgN6gIVwUWb7zhryOF7SbrNMRLKv5phWV2EZjlaIqSk87rrFbYQGWVZ3U4pKmafj5VeLF1idJtUTWdbs6dzttSh/ABNUxEGg=='\n",
    "print('ns', bp_string_to_json(ins_ns)['blueprint']['entities'][0])\n",
    "ins_ew = '0eNpljtsKgzAQRP9lnlPRWC/dXymleFlKQFdJYqlI/r1RXwp921lmzsyGdlh4tkY8aIPpJnGg+wZnXtIM+8+vM4NgPI9QkGY8lDi2ni2CinfPH1AWHgos3njDJ+MQ61OWsY1Oyv7TCvPkYmCSvSlCLjpNk0JhBeV5mRQR3xvL3WnRe8UxhH52K7zZutNQZ9fqpqvyptM61yF8ASElSLc='\n",
    "print('ew', bp_string_to_json(ins_ew)['blueprint']['entities'][0])\n",
    "ins_sn = '0eNpljtsKgzAQRP9lnlPReM+vlFK8LCWgqySxVCT/3hhfCn3bWWbOzIF+2mg1mh3UAT0sbKHuB6x+cTedP7evBAXtaIYAd3NUbMk4MvAi3CN9oDL/ECB22mm6GFHsT97mPjhV9p8WWBcbAgufTQFyk2malAI7VJ5XSRnwozY0XJbirIhD1M9ugTcZGw2yyYq6lXXVyrTJpfdfIYlIuQ=='\n",
    "print('sn', bp_string_to_json(ins_sn)['blueprint']['entities'][0])\n",
    "ins_we = '0eNpljtsKgzAQRP9lnlPRWG/5FSnFy1ICukoSS0Xy743xpdC3nWXmzBzop41Wo9lBHdDDwhaqPWD1i7vp/Ll9JShoRzMEuJujYkvGkYEX4R7pA5X5hwCx007TxYhif/I298Gpsv+0wLrYEFj4bAqQm0yLpBDYofK8TIqAH7Wh4bKUZ0Ucon52C7zJ2GiQdXavGlmVjUzrXHr/BSNuSMA='\n",
    "print('we', bp_string_to_json(ins_we)['blueprint']['entities'][0])\n"
   ],
   "metadata": {
    "collapsed": false,
    "ExecuteTime": {
     "end_time": "2023-06-19T06:52:24.567286500Z",
     "start_time": "2023-06-19T06:52:24.525599700Z"
    }
   }
  },
  {
   "cell_type": "code",
   "execution_count": 13,
   "outputs": [
    {
     "data": {
      "text/plain": "[{'entity_number': 1,\n  'name': 'transport-belt',\n  'position': {'x': -198.5, 'y': 335.5},\n  'direction': 2},\n {'entity_number': 2,\n  'name': 'transport-belt',\n  'position': {'x': -196.5, 'y': 335.5},\n  'direction': 4},\n {'entity_number': 3,\n  'name': 'transport-belt',\n  'position': {'x': -197.5, 'y': 335.5},\n  'direction': 2},\n {'entity_number': 4,\n  'name': 'transport-belt',\n  'position': {'x': -198.5, 'y': 336.5}},\n {'entity_number': 5,\n  'name': 'transport-belt',\n  'position': {'x': -198.5, 'y': 337.5}},\n {'entity_number': 6,\n  'name': 'transport-belt',\n  'position': {'x': -197.5, 'y': 337.5},\n  'direction': 6},\n {'entity_number': 7,\n  'name': 'transport-belt',\n  'position': {'x': -196.5, 'y': 337.5},\n  'direction': 6},\n {'entity_number': 8,\n  'name': 'transport-belt',\n  'position': {'x': -196.5, 'y': 336.5},\n  'direction': 4}]"
     },
     "execution_count": 13,
     "metadata": {},
     "output_type": "execute_result"
    }
   ],
   "source": [
    "# belts directions are decided by their tails (so output direction)\n",
    "belts = '0eNqd0+EOgiAQAOB3ud/UEhWUV2mtad0am54OsOUc7x7mn1a2JT+PHR8cd0xQNwP2RpMDNYG+dGRBHSew+kZVM6+5sUdQoB22wICqdo6cqcj2nXG7GhsHnoGmKz5AJf7EAMlpp3GRXsF4pqGt0YSEXwaDvrNhW0fzqYHaJWWxzxmMoNI03+fhkKs2eFlSuGdfNt9ii992tmKnW2y57d5Z3JuECvyKlsdpcl0TcXXLz7rFii3j+vWXXcTZ4nsWwkC/hl+9/RUGdzR2aWiRZLLkUpT8UKTc+ydyNhPw'\n",
    "bp_string_to_json(belts)['blueprint']['entities']"
   ],
   "metadata": {
    "collapsed": false,
    "ExecuteTime": {
     "end_time": "2023-06-19T06:52:24.612039100Z",
     "start_time": "2023-06-19T06:52:24.567286500Z"
    }
   }
  },
  {
   "cell_type": "code",
   "execution_count": 14,
   "outputs": [
    {
     "data": {
      "text/plain": "                               name  direction           recipe  \\\nentity_number                                                     \n1                    transport-belt          6              NaN   \n2                    transport-belt          6              NaN   \n3                    transport-belt          6              NaN   \n4              assembling-machine-2          0  iron-gear-wheel   \n5                          inserter          4              NaN   \n6                    transport-belt          6              NaN   \n7                          inserter          4              NaN   \n8                    transport-belt          6              NaN   \n9                    transport-belt          6              NaN   \n\n                                     drop_position  x  y  \nentity_number                                             \n1                                              NaN  0  0  \n2                                              NaN  1  0  \n3                                              NaN  2  0  \n4                                              NaN  1  3  \n5              {'x': -0.0078125, 'y': -0.80078125}  1  1  \n6                                              NaN  0  6  \n7              {'x': -0.0078125, 'y': -0.80078125}  1  5  \n8                                              NaN  1  6  \n9                                              NaN  2  6  ",
      "text/html": "<div>\n<style scoped>\n    .dataframe tbody tr th:only-of-type {\n        vertical-align: middle;\n    }\n\n    .dataframe tbody tr th {\n        vertical-align: top;\n    }\n\n    .dataframe thead th {\n        text-align: right;\n    }\n</style>\n<table border=\"1\" class=\"dataframe\">\n  <thead>\n    <tr style=\"text-align: right;\">\n      <th></th>\n      <th>name</th>\n      <th>direction</th>\n      <th>recipe</th>\n      <th>drop_position</th>\n      <th>x</th>\n      <th>y</th>\n    </tr>\n    <tr>\n      <th>entity_number</th>\n      <th></th>\n      <th></th>\n      <th></th>\n      <th></th>\n      <th></th>\n      <th></th>\n    </tr>\n  </thead>\n  <tbody>\n    <tr>\n      <th>1</th>\n      <td>transport-belt</td>\n      <td>6</td>\n      <td>NaN</td>\n      <td>NaN</td>\n      <td>0</td>\n      <td>0</td>\n    </tr>\n    <tr>\n      <th>2</th>\n      <td>transport-belt</td>\n      <td>6</td>\n      <td>NaN</td>\n      <td>NaN</td>\n      <td>1</td>\n      <td>0</td>\n    </tr>\n    <tr>\n      <th>3</th>\n      <td>transport-belt</td>\n      <td>6</td>\n      <td>NaN</td>\n      <td>NaN</td>\n      <td>2</td>\n      <td>0</td>\n    </tr>\n    <tr>\n      <th>4</th>\n      <td>assembling-machine-2</td>\n      <td>0</td>\n      <td>iron-gear-wheel</td>\n      <td>NaN</td>\n      <td>1</td>\n      <td>3</td>\n    </tr>\n    <tr>\n      <th>5</th>\n      <td>inserter</td>\n      <td>4</td>\n      <td>NaN</td>\n      <td>{'x': -0.0078125, 'y': -0.80078125}</td>\n      <td>1</td>\n      <td>1</td>\n    </tr>\n    <tr>\n      <th>6</th>\n      <td>transport-belt</td>\n      <td>6</td>\n      <td>NaN</td>\n      <td>NaN</td>\n      <td>0</td>\n      <td>6</td>\n    </tr>\n    <tr>\n      <th>7</th>\n      <td>inserter</td>\n      <td>4</td>\n      <td>NaN</td>\n      <td>{'x': -0.0078125, 'y': -0.80078125}</td>\n      <td>1</td>\n      <td>5</td>\n    </tr>\n    <tr>\n      <th>8</th>\n      <td>transport-belt</td>\n      <td>6</td>\n      <td>NaN</td>\n      <td>NaN</td>\n      <td>1</td>\n      <td>6</td>\n    </tr>\n    <tr>\n      <th>9</th>\n      <td>transport-belt</td>\n      <td>6</td>\n      <td>NaN</td>\n      <td>NaN</td>\n      <td>2</td>\n      <td>6</td>\n    </tr>\n  </tbody>\n</table>\n</div>"
     },
     "execution_count": 14,
     "metadata": {},
     "output_type": "execute_result"
    }
   ],
   "source": [
    "# asm-2 (at least) position is at the center\n",
    "s2_entities = bp_string_to_json(s2)['blueprint']['entities']\n",
    "df = pd.DataFrame(s2_entities)\n",
    "df.direction.fillna(0, inplace=True)\n",
    "df.direction = df.direction.astype(int)\n",
    "df['x'] = df.position.map(lambda p: p['x']).astype(int)\n",
    "df['y'] = df.position.map(lambda p: p['y']).astype(int)\n",
    "df.x -= df.x.min()\n",
    "df.y -= df.y.min()\n",
    "df.set_index(df.entity_number, inplace=True)\n",
    "df.drop(columns=['entity_number', 'position'], inplace=True)\n",
    "df"
   ],
   "metadata": {
    "collapsed": false,
    "ExecuteTime": {
     "end_time": "2023-06-19T06:52:24.674646400Z",
     "start_time": "2023-06-19T06:52:24.612039100Z"
    }
   }
  },
  {
   "cell_type": "code",
   "execution_count": 15,
   "outputs": [
    {
     "data": {
      "text/plain": "               name  direction recipe drop_position  x  y\n0,0  transport-belt          6    NaN           NaN  0  0\n1,0  transport-belt          6    NaN           NaN  1  0\n2,0  transport-belt          6    NaN           NaN  2  0\n0,6  transport-belt          6    NaN           NaN  0  6\n1,6  transport-belt          6    NaN           NaN  1  6\n2,6  transport-belt          6    NaN           NaN  2  6",
      "text/html": "<div>\n<style scoped>\n    .dataframe tbody tr th:only-of-type {\n        vertical-align: middle;\n    }\n\n    .dataframe tbody tr th {\n        vertical-align: top;\n    }\n\n    .dataframe thead th {\n        text-align: right;\n    }\n</style>\n<table border=\"1\" class=\"dataframe\">\n  <thead>\n    <tr style=\"text-align: right;\">\n      <th></th>\n      <th>name</th>\n      <th>direction</th>\n      <th>recipe</th>\n      <th>drop_position</th>\n      <th>x</th>\n      <th>y</th>\n    </tr>\n  </thead>\n  <tbody>\n    <tr>\n      <th>0,0</th>\n      <td>transport-belt</td>\n      <td>6</td>\n      <td>NaN</td>\n      <td>NaN</td>\n      <td>0</td>\n      <td>0</td>\n    </tr>\n    <tr>\n      <th>1,0</th>\n      <td>transport-belt</td>\n      <td>6</td>\n      <td>NaN</td>\n      <td>NaN</td>\n      <td>1</td>\n      <td>0</td>\n    </tr>\n    <tr>\n      <th>2,0</th>\n      <td>transport-belt</td>\n      <td>6</td>\n      <td>NaN</td>\n      <td>NaN</td>\n      <td>2</td>\n      <td>0</td>\n    </tr>\n    <tr>\n      <th>0,6</th>\n      <td>transport-belt</td>\n      <td>6</td>\n      <td>NaN</td>\n      <td>NaN</td>\n      <td>0</td>\n      <td>6</td>\n    </tr>\n    <tr>\n      <th>1,6</th>\n      <td>transport-belt</td>\n      <td>6</td>\n      <td>NaN</td>\n      <td>NaN</td>\n      <td>1</td>\n      <td>6</td>\n    </tr>\n    <tr>\n      <th>2,6</th>\n      <td>transport-belt</td>\n      <td>6</td>\n      <td>NaN</td>\n      <td>NaN</td>\n      <td>2</td>\n      <td>6</td>\n    </tr>\n  </tbody>\n</table>\n</div>"
     },
     "execution_count": 15,
     "metadata": {},
     "output_type": "execute_result"
    }
   ],
   "source": [
    "belts = df[df.name == 'transport-belt']\n",
    "belts.set_index(belts.x.astype(str) + ',' + belts.y.astype(str), inplace=True)\n",
    "belts"
   ],
   "metadata": {
    "collapsed": false,
    "ExecuteTime": {
     "end_time": "2023-06-19T06:52:24.695463300Z",
     "start_time": "2023-06-19T06:52:24.654504600Z"
    }
   }
  },
  {
   "cell_type": "code",
   "execution_count": 62,
   "outputs": [
    {
     "name": "stdout",
     "output_type": "stream",
     "text": [
      "DiGraph with 6 nodes and 0 edges\n"
     ]
    },
    {
     "data": {
      "text/plain": "<Figure size 640x480 with 1 Axes>",
      "image/png": "[encoded data removed]"
     },
     "metadata": {},
     "output_type": "display_data"
    }
   ],
   "source": [
    "bg = BeltsGraph(belts)\n",
    "nx.draw_networkx(bg.graph, pos=nx.spring_layout(bg.graph))"
   ],
   "metadata": {
    "collapsed": false,
    "ExecuteTime": {
     "end_time": "2023-06-19T07:34:28.315127300Z",
     "start_time": "2023-06-19T07:34:28.063759700Z"
    }
   }
  },
  {
   "cell_type": "code",
   "execution_count": 51,
   "outputs": [
    {
     "name": "stdout",
     "output_type": "stream",
     "text": [
      "DiGraph with 6 nodes and 0 edges\n"
     ]
    },
    {
     "data": {
      "text/plain": "<Figure size 640x480 with 1 Axes>",
      "image/png": "[encoded data removed]"
     },
     "metadata": {},
     "output_type": "display_data"
    }
   ],
   "source": [
    "G = nx.DiGraph()\n",
    "for ind, row in belts.iterrows():\n",
    "    G.add_node(ind, x=row.x, y=row.y)\n",
    "print(G)\n",
    "for src, row in belts.iterrows():\n",
    "    dest = None\n",
    "    if row.direction == 0:\n",
    "        dest = f'{row.x},{row.y+1}'\n",
    "    elif row.direction == 2:\n",
    "        dest = f'{row.x-1},{row.y}'\n",
    "    elif row.direction == 4:\n",
    "        dest = f'{row.x},{row.y-1}'\n",
    "    elif row.direction == 6:\n",
    "        dest = f'{row.x+1},{row.y}'\n",
    "    else:\n",
    "        assert False\n",
    "    if dest in G:\n",
    "        G.add_edge(src, dest)\n",
    "nx.draw_networkx(G)"
   ],
   "metadata": {
    "collapsed": false,
    "ExecuteTime": {
     "end_time": "2023-06-19T07:30:35.733655400Z",
     "start_time": "2023-06-19T07:30:35.613573200Z"
    }
   }
  },
  {
   "cell_type": "code",
   "execution_count": 44,
   "outputs": [
    {
     "data": {
      "text/plain": "True"
     },
     "execution_count": 44,
     "metadata": {},
     "output_type": "execute_result"
    }
   ],
   "source": [
    "('0,0', '1,0') in G.edges"
   ],
   "metadata": {
    "collapsed": false,
    "ExecuteTime": {
     "end_time": "2023-06-19T07:22:38.269665400Z",
     "start_time": "2023-06-19T07:22:38.219054100Z"
    }
   }
  }
 ],
 "metadata": {
  "kernelspec": {
   "display_name": "Python 3",
   "language": "python",
   "name": "python3"
  },
  "language_info": {
   "codemirror_mode": {
    "name": "ipython",
    "version": 2
   },
   "file_extension": ".py",
   "mimetype": "text/x-python",
   "name": "python",
   "nbconvert_exporter": "python",
   "pygments_lexer": "ipython2",
   "version": "2.7.6"
  }
 },
 "nbformat": 4,
 "nbformat_minor": 0
}
